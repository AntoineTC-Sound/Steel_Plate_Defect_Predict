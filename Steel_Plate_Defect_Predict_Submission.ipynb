{
 "cells": [
  {
   "cell_type": "code",
   "execution_count": 1,
   "id": "4327c631",
   "metadata": {},
   "outputs": [],
   "source": [
    "from sklearn.model_selection import train_test_split\n",
    "from sklearn import metrics\n",
    "from sklearn import preprocessing\n",
    "from sklearn.model_selection import GridSearchCV\n",
    "from matplotlib import pyplot as plt\n",
    "from sklearn.metrics import make_scorer\n",
    "from sklearn.metrics import accuracy_score, confusion_matrix, roc_auc_score\n",
    "import pandas as pd\n",
    "import numpy as np\n",
    "from sklearn import tree\n",
    "import seaborn as sns\n",
    "import warnings \n",
    "warnings.filterwarnings('ignore')\n",
    "from sklearn.preprocessing import scale\n",
    "import sklearn\n",
    "from sklearn.linear_model import LogisticRegression\n",
    "from sklearn.metrics import ConfusionMatrixDisplay\n",
    "from sklearn import metrics\n",
    "import functions as ff\n",
    "from functions import *"
   ]
  },
  {
   "cell_type": "code",
   "execution_count": 2,
   "id": "09268c65",
   "metadata": {},
   "outputs": [],
   "source": [
    "df_train = pd.read_csv('train.csv')\n",
    "df_test = pd.read_csv('test.csv')\n",
    "X_train = df_train.drop(columns=['id', 'Pastry', 'Z_Scratch', 'K_Scatch', 'Stains', 'Dirtiness', 'Bumps', 'Other_Faults'])\n",
    "X_test = df_test.drop(columns=['id'])\n",
    "Y_train = df_train[['Pastry', 'Z_Scratch', 'K_Scatch', 'Stains', 'Dirtiness', 'Bumps', 'Other_Faults']]"
   ]
  },
  {
   "cell_type": "code",
   "execution_count": 3,
   "id": "49884613",
   "metadata": {},
   "outputs": [],
   "source": [
    "ff.transformacion(X_train)\n",
    "ff.transformacion(X_test)"
   ]
  },
  {
   "cell_type": "code",
   "execution_count": 4,
   "id": "616df9f4",
   "metadata": {},
   "outputs": [],
   "source": [
    "X_train_t, X_test_t, y_train_t, y_test_t = train_test_split(X_train, Y_train, test_size=0.2)"
   ]
  },
  {
   "cell_type": "code",
   "execution_count": 5,
   "id": "a88cede8",
   "metadata": {},
   "outputs": [
    {
     "data": {
      "text/plain": [
       "{'bootstrap': True,\n",
       " 'bootstrap_features': False,\n",
       " 'estimator__ccp_alpha': 0.0,\n",
       " 'estimator__class_weight': None,\n",
       " 'estimator__criterion': 'gini',\n",
       " 'estimator__max_depth': None,\n",
       " 'estimator__max_features': None,\n",
       " 'estimator__max_leaf_nodes': None,\n",
       " 'estimator__min_impurity_decrease': 0.0,\n",
       " 'estimator__min_samples_leaf': 1,\n",
       " 'estimator__min_samples_split': 2,\n",
       " 'estimator__min_weight_fraction_leaf': 0.0,\n",
       " 'estimator__monotonic_cst': None,\n",
       " 'estimator__random_state': None,\n",
       " 'estimator__splitter': 'best',\n",
       " 'estimator': DecisionTreeClassifier(),\n",
       " 'max_features': 0.6,\n",
       " 'max_samples': 0.7,\n",
       " 'n_estimators': 20,\n",
       " 'n_jobs': None,\n",
       " 'oob_score': False,\n",
       " 'random_state': None,\n",
       " 'verbose': 0,\n",
       " 'warm_start': False}"
      ]
     },
     "execution_count": 5,
     "metadata": {},
     "output_type": "execute_result"
    }
   ],
   "source": [
    "from sklearn.tree import DecisionTreeClassifier\n",
    "from sklearn.multioutput import MultiOutputClassifier\n",
    "from sklearn.ensemble import BaggingClassifier\n",
    "\n",
    "bagged_tree = BaggingClassifier(estimator=DecisionTreeClassifier(), n_estimators=20, max_samples=0.7, max_features=0.6)\n",
    "bagged_tree.get_params()"
   ]
  },
  {
   "cell_type": "code",
   "execution_count": 6,
   "id": "991cdfe6",
   "metadata": {},
   "outputs": [],
   "source": [
    "params={'estimator__ccp_alpha':[0.0,0.1,0.2],\n",
    "        'estimator__max_depth':[5,7,10],\n",
    "        'estimator__max_features': [0.3,0.5,0.7],\n",
    "        'estimator__min_samples_split': [4,6,8],\n",
    "        'estimator__min_samples_leaf': [5, 10, 15],\n",
    "        'n_estimators': [10, 15, 20]\n",
    "        }\n",
    "\n",
    "scoring = ['accuracy', 'roc_auc']\n",
    "\n",
    "n_cv=4 \n",
    "\n",
    "grid_solver = GridSearchCV(estimator = bagged_tree,\n",
    "                   param_grid = params, \n",
    "                   scoring = scoring,\n",
    "                   cv = n_cv,\n",
    "                   refit = 'roc_auc',\n",
    "                   verbose = 1)\n",
    "\n",
    "model = MultiOutputClassifier(estimator=grid_solver)"
   ]
  },
  {
   "cell_type": "code",
   "execution_count": 7,
   "id": "041f132d",
   "metadata": {
    "scrolled": false
   },
   "outputs": [
    {
     "name": "stdout",
     "output_type": "stream",
     "text": [
      "Fitting 4 folds for each of 729 candidates, totalling 2916 fits\n",
      "Fitting 4 folds for each of 729 candidates, totalling 2916 fits\n",
      "Fitting 4 folds for each of 729 candidates, totalling 2916 fits\n",
      "Fitting 4 folds for each of 729 candidates, totalling 2916 fits\n",
      "Fitting 4 folds for each of 729 candidates, totalling 2916 fits\n",
      "Fitting 4 folds for each of 729 candidates, totalling 2916 fits\n",
      "Fitting 4 folds for each of 729 candidates, totalling 2916 fits\n"
     ]
    }
   ],
   "source": [
    "model_result=model.fit(X_train_t,y_train_t)"
   ]
  },
  {
   "cell_type": "code",
   "execution_count": 8,
   "id": "17be868a",
   "metadata": {},
   "outputs": [
    {
     "name": "stdout",
     "output_type": "stream",
     "text": [
      "Roc Auc Tree: 0.659020602304995\n",
      "Accuracy: 0.31815816857440166\n"
     ]
    }
   ],
   "source": [
    "yhat_test_t=model_result.predict(X_test_t)\n",
    "print('Roc Auc Tree:', roc_auc_score(y_true=y_test_t, y_score=yhat_test_t))\n",
    "print('Accuracy:', accuracy_score(y_true=y_test_t, y_pred=yhat_test_t))"
   ]
  },
  {
   "cell_type": "code",
   "execution_count": 9,
   "id": "bef09e53",
   "metadata": {},
   "outputs": [
    {
     "name": "stdout",
     "output_type": "stream",
     "text": [
      "Roc Auc Tree: 0.6678842785929291\n",
      "Accuracy: 0.35095934959349595\n"
     ]
    }
   ],
   "source": [
    "yhat_train_t=model_result.predict(X_train_t)\n",
    "print('Roc Auc Tree:', roc_auc_score(y_true=y_train_t, y_score=yhat_train_t))\n",
    "print('Accuracy:', accuracy_score(y_true=y_train_t, y_pred=yhat_train_t))"
   ]
  },
  {
   "cell_type": "code",
   "execution_count": 10,
   "id": "7a474030",
   "metadata": {},
   "outputs": [],
   "source": [
    "y_pred_test=np.array(model_result.predict_proba(X_test))[:,:,1].T"
   ]
  },
  {
   "cell_type": "code",
   "execution_count": 11,
   "id": "0b755657",
   "metadata": {},
   "outputs": [
    {
     "ename": "NameError",
     "evalue": "name 'final_model' is not defined",
     "output_type": "error",
     "traceback": [
      "\u001b[0;31m---------------------------------------------------------------------------\u001b[0m",
      "\u001b[0;31mNameError\u001b[0m                                 Traceback (most recent call last)",
      "Cell \u001b[0;32mIn[11], line 1\u001b[0m\n\u001b[0;32m----> 1\u001b[0m importances\u001b[38;5;241m=\u001b[39mpd\u001b[38;5;241m.\u001b[39mDataFrame([X_test\u001b[38;5;241m.\u001b[39mcolumns,final_model\u001b[38;5;241m.\u001b[39mfeature_importances_], index\u001b[38;5;241m=\u001b[39m[\u001b[38;5;124m\"\u001b[39m\u001b[38;5;124mfeature\u001b[39m\u001b[38;5;124m\"\u001b[39m,\u001b[38;5;124m\"\u001b[39m\u001b[38;5;124mimportance\u001b[39m\u001b[38;5;124m\"\u001b[39m])\u001b[38;5;241m.\u001b[39mT\n\u001b[1;32m      2\u001b[0m \u001b[38;5;28mprint\u001b[39m(importances\u001b[38;5;241m.\u001b[39msort_values(\u001b[38;5;124m\"\u001b[39m\u001b[38;5;124mimportance\u001b[39m\u001b[38;5;124m\"\u001b[39m, ascending \u001b[38;5;241m=\u001b[39m \u001b[38;5;28;01mFalse\u001b[39;00m)\u001b[38;5;241m.\u001b[39mhead(\u001b[38;5;241m10\u001b[39m))\n",
      "\u001b[0;31mNameError\u001b[0m: name 'final_model' is not defined"
     ]
    }
   ],
   "source": [
    "importances=pd.DataFrame([X_test.columns,final_model.feature_importances_], index=[\"feature\",\"importance\"]).T\n",
    "print(importances.sort_values(\"importance\", ascending = False).head(10))"
   ]
  },
  {
   "cell_type": "code",
   "execution_count": 12,
   "id": "5b597e2c",
   "metadata": {},
   "outputs": [
    {
     "data": {
      "text/html": [
       "<div>\n",
       "<style scoped>\n",
       "    .dataframe tbody tr th:only-of-type {\n",
       "        vertical-align: middle;\n",
       "    }\n",
       "\n",
       "    .dataframe tbody tr th {\n",
       "        vertical-align: top;\n",
       "    }\n",
       "\n",
       "    .dataframe thead th {\n",
       "        text-align: right;\n",
       "    }\n",
       "</style>\n",
       "<table border=\"1\" class=\"dataframe\">\n",
       "  <thead>\n",
       "    <tr style=\"text-align: right;\">\n",
       "      <th></th>\n",
       "      <th>id</th>\n",
       "      <th>Pastry</th>\n",
       "      <th>Z_Scratch</th>\n",
       "      <th>K_Scatch</th>\n",
       "      <th>Stains</th>\n",
       "      <th>Dirtiness</th>\n",
       "      <th>Bumps</th>\n",
       "      <th>Other_Faults</th>\n",
       "    </tr>\n",
       "  </thead>\n",
       "  <tbody>\n",
       "    <tr>\n",
       "      <th>0</th>\n",
       "      <td>19219</td>\n",
       "      <td>0.311676</td>\n",
       "      <td>0.007080</td>\n",
       "      <td>0.007277</td>\n",
       "      <td>0.000169</td>\n",
       "      <td>0.040598</td>\n",
       "      <td>0.184988</td>\n",
       "      <td>0.372768</td>\n",
       "    </tr>\n",
       "    <tr>\n",
       "      <th>1</th>\n",
       "      <td>19220</td>\n",
       "      <td>0.219209</td>\n",
       "      <td>0.034616</td>\n",
       "      <td>0.026060</td>\n",
       "      <td>0.000169</td>\n",
       "      <td>0.118144</td>\n",
       "      <td>0.205046</td>\n",
       "      <td>0.356097</td>\n",
       "    </tr>\n",
       "    <tr>\n",
       "      <th>2</th>\n",
       "      <td>19221</td>\n",
       "      <td>0.005090</td>\n",
       "      <td>0.046618</td>\n",
       "      <td>0.033485</td>\n",
       "      <td>0.000957</td>\n",
       "      <td>0.026301</td>\n",
       "      <td>0.285740</td>\n",
       "      <td>0.442349</td>\n",
       "    </tr>\n",
       "    <tr>\n",
       "      <th>3</th>\n",
       "      <td>19222</td>\n",
       "      <td>0.122114</td>\n",
       "      <td>0.071650</td>\n",
       "      <td>0.003520</td>\n",
       "      <td>0.016297</td>\n",
       "      <td>0.021006</td>\n",
       "      <td>0.435894</td>\n",
       "      <td>0.377119</td>\n",
       "    </tr>\n",
       "    <tr>\n",
       "      <th>4</th>\n",
       "      <td>19223</td>\n",
       "      <td>0.003955</td>\n",
       "      <td>0.008291</td>\n",
       "      <td>0.003887</td>\n",
       "      <td>0.000749</td>\n",
       "      <td>0.007441</td>\n",
       "      <td>0.580712</td>\n",
       "      <td>0.435556</td>\n",
       "    </tr>\n",
       "  </tbody>\n",
       "</table>\n",
       "</div>"
      ],
      "text/plain": [
       "      id    Pastry  Z_Scratch  K_Scatch    Stains  Dirtiness     Bumps  \\\n",
       "0  19219  0.311676   0.007080  0.007277  0.000169   0.040598  0.184988   \n",
       "1  19220  0.219209   0.034616  0.026060  0.000169   0.118144  0.205046   \n",
       "2  19221  0.005090   0.046618  0.033485  0.000957   0.026301  0.285740   \n",
       "3  19222  0.122114   0.071650  0.003520  0.016297   0.021006  0.435894   \n",
       "4  19223  0.003955   0.008291  0.003887  0.000749   0.007441  0.580712   \n",
       "\n",
       "   Other_Faults  \n",
       "0      0.372768  \n",
       "1      0.356097  \n",
       "2      0.442349  \n",
       "3      0.377119  \n",
       "4      0.435556  "
      ]
     },
     "execution_count": 12,
     "metadata": {},
     "output_type": "execute_result"
    }
   ],
   "source": [
    "submission=pd.read_csv(\"sample_submission.csv\")\n",
    "submission.iloc[:,1:8]=y_pred_test\n",
    "submission.head()"
   ]
  },
  {
   "cell_type": "code",
   "execution_count": 13,
   "id": "d4ef8447",
   "metadata": {},
   "outputs": [],
   "source": [
    "submission.to_csv(\"8th_predict_submission.csv\", index = False)"
   ]
  }
 ],
 "metadata": {
  "kernelspec": {
   "display_name": "Python 3 (ipykernel)",
   "language": "python",
   "name": "python3"
  },
  "language_info": {
   "codemirror_mode": {
    "name": "ipython",
    "version": 3
   },
   "file_extension": ".py",
   "mimetype": "text/x-python",
   "name": "python",
   "nbconvert_exporter": "python",
   "pygments_lexer": "ipython3",
   "version": "3.11.5"
  }
 },
 "nbformat": 4,
 "nbformat_minor": 5
}
