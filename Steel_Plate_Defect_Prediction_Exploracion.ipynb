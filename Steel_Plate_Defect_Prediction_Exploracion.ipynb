{
 "cells": [
  {
   "cell_type": "code",
   "execution_count": 1,
   "id": "f5f3ea6a",
   "metadata": {},
   "outputs": [],
   "source": [
    "from sklearn.model_selection import train_test_split\n",
    "from sklearn import metrics\n",
    "from sklearn import preprocessing\n",
    "from sklearn.model_selection import GridSearchCV\n",
    "from matplotlib import pyplot as plt\n",
    "from sklearn.metrics import make_scorer\n",
    "from sklearn.metrics import accuracy_score, confusion_matrix, roc_auc_score\n",
    "import pandas as pd\n",
    "import numpy as np\n",
    "from sklearn import tree\n",
    "import seaborn as sns\n",
    "import warnings \n",
    "warnings.filterwarnings('ignore')\n",
    "from sklearn.preprocessing import scale\n",
    "import sklearn\n",
    "from sklearn.linear_model import LogisticRegression\n",
    "from sklearn.metrics import ConfusionMatrixDisplay\n",
    "from sklearn import metrics\n",
    "import functions as ff\n",
    "from functions import *"
   ]
  },
  {
   "cell_type": "code",
   "execution_count": 2,
   "id": "642ef9a2",
   "metadata": {},
   "outputs": [],
   "source": [
    "df_train = pd.read_csv('train.csv')\n",
    "df_test = pd.read_csv('test.csv')\n",
    "X_train = df_train.drop(columns=['id', 'Pastry', 'Z_Scratch', 'K_Scatch', 'Stains', 'Dirtiness', 'Bumps', 'Other_Faults'])\n",
    "X_test = df_test.drop(columns=['id'])\n",
    "Y_train = df_train[['Pastry', 'Z_Scratch', 'K_Scatch', 'Stains', 'Dirtiness', 'Bumps', 'Other_Faults']]"
   ]
  },
  {
   "cell_type": "code",
   "execution_count": 3,
   "id": "68a85d5d",
   "metadata": {},
   "outputs": [],
   "source": [
    "ff.transformacion(X_train)\n",
    "ff.transformacion(X_test)"
   ]
  },
  {
   "cell_type": "code",
   "execution_count": 4,
   "id": "97a86602",
   "metadata": {},
   "outputs": [],
   "source": [
    "X_train_t, X_test_t, y_train_t, y_test_t = train_test_split(X_train, Y_train, test_size=0.2)"
   ]
  },
  {
   "cell_type": "code",
   "execution_count": 6,
   "id": "745b4cc9",
   "metadata": {},
   "outputs": [
    {
     "data": {
      "text/plain": [
       "{'bootstrap': True,\n",
       " 'ccp_alpha': 0.0,\n",
       " 'class_weight': None,\n",
       " 'criterion': 'gini',\n",
       " 'max_depth': None,\n",
       " 'max_features': 'sqrt',\n",
       " 'max_leaf_nodes': None,\n",
       " 'max_samples': None,\n",
       " 'min_impurity_decrease': 0.0,\n",
       " 'min_samples_leaf': 1,\n",
       " 'min_samples_split': 2,\n",
       " 'min_weight_fraction_leaf': 0.0,\n",
       " 'monotonic_cst': None,\n",
       " 'n_estimators': 100,\n",
       " 'n_jobs': None,\n",
       " 'oob_score': False,\n",
       " 'random_state': None,\n",
       " 'verbose': 0,\n",
       " 'warm_start': False}"
      ]
     },
     "execution_count": 6,
     "metadata": {},
     "output_type": "execute_result"
    }
   ],
   "source": [
    "from sklearn.ensemble import RandomForestClassifier\n",
    "clf = RandomForestClassifier()\n",
    "clf.get_params()"
   ]
  },
  {
   "cell_type": "code",
   "execution_count": 9,
   "id": "d463ba89",
   "metadata": {},
   "outputs": [],
   "source": [
    "params={'ccp_alpha':[0.0,0.1,0.2],\n",
    "        'max_depth':[4,6,8],\n",
    "        'max_features': [0.3,0.5,0.7],\n",
    "        'min_samples_split': [4,6,8],\n",
    "        'min_samples_leaf': [5, 10, 15],\n",
    "        'n_estimators': [20, 35, 50]\n",
    "        }\n",
    "\n",
    "scoring = ['accuracy', 'roc_auc']\n",
    "\n",
    "n_cv=4 \n",
    "\n",
    "grid_solver = GridSearchCV(estimator = clf,\n",
    "                   param_grid = params, \n",
    "                   scoring = scoring,\n",
    "                   cv = n_cv,\n",
    "                   refit = 'roc_auc',\n",
    "                   verbose = 1)"
   ]
  },
  {
   "cell_type": "code",
   "execution_count": 10,
   "id": "1ec777bb",
   "metadata": {
    "scrolled": false
   },
   "outputs": [
    {
     "name": "stdout",
     "output_type": "stream",
     "text": [
      "Fitting 4 folds for each of 729 candidates, totalling 2916 fits\n"
     ]
    }
   ],
   "source": [
    "model = grid_solver.fit(X_train_t, y_train_t)"
   ]
  },
  {
   "cell_type": "code",
   "execution_count": 11,
   "id": "cdebf302",
   "metadata": {},
   "outputs": [
    {
     "data": {
      "text/plain": [
       "{'ccp_alpha': 0.0,\n",
       " 'max_depth': 8,\n",
       " 'max_features': 0.3,\n",
       " 'min_samples_leaf': 10,\n",
       " 'min_samples_split': 6,\n",
       " 'n_estimators': 50}"
      ]
     },
     "execution_count": 11,
     "metadata": {},
     "output_type": "execute_result"
    }
   ],
   "source": [
    "model.best_params_"
   ]
  },
  {
   "cell_type": "code",
   "execution_count": 16,
   "id": "50e3f6c5",
   "metadata": {},
   "outputs": [
    {
     "name": "stdout",
     "output_type": "stream",
     "text": [
      "                  feature importance\n",
      "17        Outside_X_Index   0.176445\n",
      "27               X_Region   0.131078\n",
      "22            Log_X_Index   0.106059\n",
      "21             LogOfAreas   0.085047\n",
      "4            Pixels_Areas   0.059344\n",
      "13  Steel_Plate_Thickness   0.052064\n",
      "10     Length_of_Conveyer   0.045691\n",
      "7       Sum_of_Luminosity   0.041255\n",
      "35              Total_Log   0.035987\n",
      "24      Orientation_Index   0.024393\n",
      "11       TypeOfSteel_A300   0.021559\n",
      "6             Y_Perimeter   0.018297\n",
      "16           Square_Index   0.016874\n",
      "28                 X_Mean    0.01593\n",
      "19          Edges_Y_Index   0.014161\n"
     ]
    }
   ],
   "source": [
    "best_model=model.best_estimator_\n",
    "importances=pd.DataFrame([X_test.columns,best_model.feature_importances_], index=[\"feature\",\"importance\"]).T\n",
    "print(importances.sort_values(\"importance\", ascending = False).head(15))"
   ]
  },
  {
   "cell_type": "code",
   "execution_count": 17,
   "id": "3ffc9b24",
   "metadata": {},
   "outputs": [
    {
     "name": "stdout",
     "output_type": "stream",
     "text": [
      "Roc Auc Tree: 0.6524284076948377\n",
      "Accuracy: 0.31815816857440166\n"
     ]
    }
   ],
   "source": [
    "yhat_test_t=best_model.predict(X_test_t)\n",
    "print('Roc Auc Tree:', roc_auc_score(y_true=y_test_t, y_score=yhat_test_t))\n",
    "print('Accuracy:', accuracy_score(y_true=y_test_t, y_pred=yhat_test_t))"
   ]
  },
  {
   "cell_type": "code",
   "execution_count": 19,
   "id": "74818aa2",
   "metadata": {},
   "outputs": [
    {
     "name": "stdout",
     "output_type": "stream",
     "text": [
      "Roc Auc Tree: 0.6610289257880722\n",
      "Accuracy: 0.3322926829268293\n"
     ]
    }
   ],
   "source": [
    "yhat_train_t=best_model.predict(X_train_t)\n",
    "print('Roc Auc Tree:', roc_auc_score(y_true=y_train_t, y_score=yhat_train_t))\n",
    "print('Accuracy:', accuracy_score(y_true=y_train_t, y_pred=yhat_train_t))"
   ]
  },
  {
   "cell_type": "code",
   "execution_count": 20,
   "id": "7bae9833",
   "metadata": {},
   "outputs": [],
   "source": [
    "final_model = best_model.fit(X_train, Y_train)"
   ]
  },
  {
   "cell_type": "code",
   "execution_count": 21,
   "id": "7e397a40",
   "metadata": {},
   "outputs": [],
   "source": [
    "y_pred_test=np.array(final_model.predict_proba(X_test))[:,:,1].T"
   ]
  },
  {
   "cell_type": "code",
   "execution_count": 22,
   "id": "414929c1",
   "metadata": {},
   "outputs": [
    {
     "data": {
      "text/html": [
       "<div>\n",
       "<style scoped>\n",
       "    .dataframe tbody tr th:only-of-type {\n",
       "        vertical-align: middle;\n",
       "    }\n",
       "\n",
       "    .dataframe tbody tr th {\n",
       "        vertical-align: top;\n",
       "    }\n",
       "\n",
       "    .dataframe thead th {\n",
       "        text-align: right;\n",
       "    }\n",
       "</style>\n",
       "<table border=\"1\" class=\"dataframe\">\n",
       "  <thead>\n",
       "    <tr style=\"text-align: right;\">\n",
       "      <th></th>\n",
       "      <th>id</th>\n",
       "      <th>Pastry</th>\n",
       "      <th>Z_Scratch</th>\n",
       "      <th>K_Scatch</th>\n",
       "      <th>Stains</th>\n",
       "      <th>Dirtiness</th>\n",
       "      <th>Bumps</th>\n",
       "      <th>Other_Faults</th>\n",
       "    </tr>\n",
       "  </thead>\n",
       "  <tbody>\n",
       "    <tr>\n",
       "      <th>0</th>\n",
       "      <td>19219</td>\n",
       "      <td>0.359667</td>\n",
       "      <td>0.018792</td>\n",
       "      <td>0.009506</td>\n",
       "      <td>0.000611</td>\n",
       "      <td>0.045343</td>\n",
       "      <td>0.163831</td>\n",
       "      <td>0.359485</td>\n",
       "    </tr>\n",
       "    <tr>\n",
       "      <th>1</th>\n",
       "      <td>19220</td>\n",
       "      <td>0.233941</td>\n",
       "      <td>0.037323</td>\n",
       "      <td>0.016870</td>\n",
       "      <td>0.003355</td>\n",
       "      <td>0.132703</td>\n",
       "      <td>0.166244</td>\n",
       "      <td>0.364935</td>\n",
       "    </tr>\n",
       "    <tr>\n",
       "      <th>2</th>\n",
       "      <td>19221</td>\n",
       "      <td>0.039414</td>\n",
       "      <td>0.036423</td>\n",
       "      <td>0.047251</td>\n",
       "      <td>0.021695</td>\n",
       "      <td>0.021288</td>\n",
       "      <td>0.312056</td>\n",
       "      <td>0.461868</td>\n",
       "    </tr>\n",
       "    <tr>\n",
       "      <th>3</th>\n",
       "      <td>19222</td>\n",
       "      <td>0.096070</td>\n",
       "      <td>0.041043</td>\n",
       "      <td>0.006809</td>\n",
       "      <td>0.003134</td>\n",
       "      <td>0.011378</td>\n",
       "      <td>0.411482</td>\n",
       "      <td>0.394146</td>\n",
       "    </tr>\n",
       "    <tr>\n",
       "      <th>4</th>\n",
       "      <td>19223</td>\n",
       "      <td>0.035047</td>\n",
       "      <td>0.029659</td>\n",
       "      <td>0.010201</td>\n",
       "      <td>0.009426</td>\n",
       "      <td>0.016762</td>\n",
       "      <td>0.432690</td>\n",
       "      <td>0.416747</td>\n",
       "    </tr>\n",
       "  </tbody>\n",
       "</table>\n",
       "</div>"
      ],
      "text/plain": [
       "      id    Pastry  Z_Scratch  K_Scatch    Stains  Dirtiness     Bumps  \\\n",
       "0  19219  0.359667   0.018792  0.009506  0.000611   0.045343  0.163831   \n",
       "1  19220  0.233941   0.037323  0.016870  0.003355   0.132703  0.166244   \n",
       "2  19221  0.039414   0.036423  0.047251  0.021695   0.021288  0.312056   \n",
       "3  19222  0.096070   0.041043  0.006809  0.003134   0.011378  0.411482   \n",
       "4  19223  0.035047   0.029659  0.010201  0.009426   0.016762  0.432690   \n",
       "\n",
       "   Other_Faults  \n",
       "0      0.359485  \n",
       "1      0.364935  \n",
       "2      0.461868  \n",
       "3      0.394146  \n",
       "4      0.416747  "
      ]
     },
     "execution_count": 22,
     "metadata": {},
     "output_type": "execute_result"
    }
   ],
   "source": [
    "submission=pd.read_csv(\"sample_submission.csv\")\n",
    "submission.iloc[:,1:8]=y_pred_test\n",
    "submission.head()"
   ]
  },
  {
   "cell_type": "code",
   "execution_count": 23,
   "id": "a9ff15c1",
   "metadata": {},
   "outputs": [],
   "source": [
    "submission.to_csv(\"9th_predict_submission.csv\", index = False)"
   ]
  }
 ],
 "metadata": {
  "kernelspec": {
   "display_name": "Python 3 (ipykernel)",
   "language": "python",
   "name": "python3"
  },
  "language_info": {
   "codemirror_mode": {
    "name": "ipython",
    "version": 3
   },
   "file_extension": ".py",
   "mimetype": "text/x-python",
   "name": "python",
   "nbconvert_exporter": "python",
   "pygments_lexer": "ipython3",
   "version": "3.11.5"
  }
 },
 "nbformat": 4,
 "nbformat_minor": 5
}
